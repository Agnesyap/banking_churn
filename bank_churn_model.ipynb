{
 "cells": [
  {
   "cell_type": "markdown",
   "id": "dc1c79bf",
   "metadata": {},
   "source": [
    "### Project: Customer Churn Prediction Model for banking\n",
    "\n",
    "#### Objectives:\n",
    "This project is aim to propose a model for predicting customer churn effectively in banking via data mining approach. \n",
    "\n",
    "Data mining is a process of discovering patterns and relationships in the data points using certain techniques from multiple disciplines. While conducting data mining, a few phases must be involved - problem formulation, data understanding, data pre-processing, data modelling and model evaluation.\n",
    "\n",
    "Customer churn prediction belongs to classification model in data mining as it tries to categories whether a customer churn or not. Classification model is suitable in predicting categorical target variables. In order to propose an effective model, we are going to test on a few classification model and select the model with best performance.\n",
    "\n",
    "**Dataset:** We will use the bank customer dataset from Kaggle in this report."
   ]
  },
  {
   "cell_type": "code",
   "execution_count": 10,
   "id": "a567a348",
   "metadata": {},
   "outputs": [],
   "source": [
    "# Import necessary libraries \n",
    "import pandas as pd\n",
    "import numpy as np\n",
    "import seaborn as sns\n",
    "import matplotlib.pyplot as plt\n",
    "import warnings\n",
    "warnings.filterwarnings(\"ignore\")"
   ]
  },
  {
   "cell_type": "code",
   "execution_count": 11,
   "id": "3d2fe95d",
   "metadata": {},
   "outputs": [],
   "source": [
    "# Load the dataset as dataframe\n",
    "df = pd.read_csv(\"/Users/yiqin/Documents/Study/Projects/Churn/Bank Customer Churn Prediction.csv\")"
   ]
  },
  {
   "cell_type": "code",
   "execution_count": 12,
   "id": "d53978b4",
   "metadata": {},
   "outputs": [
    {
     "data": {
      "text/html": [
       "<div>\n",
       "<style scoped>\n",
       "    .dataframe tbody tr th:only-of-type {\n",
       "        vertical-align: middle;\n",
       "    }\n",
       "\n",
       "    .dataframe tbody tr th {\n",
       "        vertical-align: top;\n",
       "    }\n",
       "\n",
       "    .dataframe thead th {\n",
       "        text-align: right;\n",
       "    }\n",
       "</style>\n",
       "<table border=\"1\" class=\"dataframe\">\n",
       "  <thead>\n",
       "    <tr style=\"text-align: right;\">\n",
       "      <th></th>\n",
       "      <th>customer_id</th>\n",
       "      <th>credit_score</th>\n",
       "      <th>country</th>\n",
       "      <th>gender</th>\n",
       "      <th>age</th>\n",
       "      <th>tenure</th>\n",
       "      <th>balance</th>\n",
       "      <th>products_number</th>\n",
       "      <th>credit_card</th>\n",
       "      <th>active_member</th>\n",
       "      <th>estimated_salary</th>\n",
       "      <th>churn</th>\n",
       "    </tr>\n",
       "  </thead>\n",
       "  <tbody>\n",
       "    <tr>\n",
       "      <th>0</th>\n",
       "      <td>15634602</td>\n",
       "      <td>619</td>\n",
       "      <td>France</td>\n",
       "      <td>Female</td>\n",
       "      <td>42</td>\n",
       "      <td>2</td>\n",
       "      <td>0.00</td>\n",
       "      <td>1</td>\n",
       "      <td>1</td>\n",
       "      <td>1</td>\n",
       "      <td>101348.88</td>\n",
       "      <td>1</td>\n",
       "    </tr>\n",
       "    <tr>\n",
       "      <th>1</th>\n",
       "      <td>15647311</td>\n",
       "      <td>608</td>\n",
       "      <td>Spain</td>\n",
       "      <td>Female</td>\n",
       "      <td>41</td>\n",
       "      <td>1</td>\n",
       "      <td>83807.86</td>\n",
       "      <td>1</td>\n",
       "      <td>0</td>\n",
       "      <td>1</td>\n",
       "      <td>112542.58</td>\n",
       "      <td>0</td>\n",
       "    </tr>\n",
       "    <tr>\n",
       "      <th>2</th>\n",
       "      <td>15619304</td>\n",
       "      <td>502</td>\n",
       "      <td>France</td>\n",
       "      <td>Female</td>\n",
       "      <td>42</td>\n",
       "      <td>8</td>\n",
       "      <td>159660.80</td>\n",
       "      <td>3</td>\n",
       "      <td>1</td>\n",
       "      <td>0</td>\n",
       "      <td>113931.57</td>\n",
       "      <td>1</td>\n",
       "    </tr>\n",
       "    <tr>\n",
       "      <th>3</th>\n",
       "      <td>15701354</td>\n",
       "      <td>699</td>\n",
       "      <td>France</td>\n",
       "      <td>Female</td>\n",
       "      <td>39</td>\n",
       "      <td>1</td>\n",
       "      <td>0.00</td>\n",
       "      <td>2</td>\n",
       "      <td>0</td>\n",
       "      <td>0</td>\n",
       "      <td>93826.63</td>\n",
       "      <td>0</td>\n",
       "    </tr>\n",
       "    <tr>\n",
       "      <th>4</th>\n",
       "      <td>15737888</td>\n",
       "      <td>850</td>\n",
       "      <td>Spain</td>\n",
       "      <td>Female</td>\n",
       "      <td>43</td>\n",
       "      <td>2</td>\n",
       "      <td>125510.82</td>\n",
       "      <td>1</td>\n",
       "      <td>1</td>\n",
       "      <td>1</td>\n",
       "      <td>79084.10</td>\n",
       "      <td>0</td>\n",
       "    </tr>\n",
       "  </tbody>\n",
       "</table>\n",
       "</div>"
      ],
      "text/plain": [
       "   customer_id  credit_score country  gender  age  tenure    balance  \\\n",
       "0     15634602           619  France  Female   42       2       0.00   \n",
       "1     15647311           608   Spain  Female   41       1   83807.86   \n",
       "2     15619304           502  France  Female   42       8  159660.80   \n",
       "3     15701354           699  France  Female   39       1       0.00   \n",
       "4     15737888           850   Spain  Female   43       2  125510.82   \n",
       "\n",
       "   products_number  credit_card  active_member  estimated_salary  churn  \n",
       "0                1            1              1         101348.88      1  \n",
       "1                1            0              1         112542.58      0  \n",
       "2                3            1              0         113931.57      1  \n",
       "3                2            0              0          93826.63      0  \n",
       "4                1            1              1          79084.10      0  "
      ]
     },
     "execution_count": 12,
     "metadata": {},
     "output_type": "execute_result"
    }
   ],
   "source": [
    "# Preview the dataframe\n",
    "df.head()"
   ]
  },
  {
   "cell_type": "code",
   "execution_count": 13,
   "id": "73bde283",
   "metadata": {},
   "outputs": [
    {
     "name": "stdout",
     "output_type": "stream",
     "text": [
      "<class 'pandas.core.frame.DataFrame'>\n",
      "RangeIndex: 10000 entries, 0 to 9999\n",
      "Data columns (total 12 columns):\n",
      " #   Column            Non-Null Count  Dtype  \n",
      "---  ------            --------------  -----  \n",
      " 0   customer_id       10000 non-null  int64  \n",
      " 1   credit_score      10000 non-null  int64  \n",
      " 2   country           10000 non-null  object \n",
      " 3   gender            10000 non-null  object \n",
      " 4   age               10000 non-null  int64  \n",
      " 5   tenure            10000 non-null  int64  \n",
      " 6   balance           10000 non-null  float64\n",
      " 7   products_number   10000 non-null  int64  \n",
      " 8   credit_card       10000 non-null  int64  \n",
      " 9   active_member     10000 non-null  int64  \n",
      " 10  estimated_salary  10000 non-null  float64\n",
      " 11  churn             10000 non-null  int64  \n",
      "dtypes: float64(2), int64(8), object(2)\n",
      "memory usage: 937.6+ KB\n"
     ]
    }
   ],
   "source": [
    "# Understand the data type of the dataframe\n",
    "df.info()"
   ]
  },
  {
   "cell_type": "markdown",
   "id": "41988695",
   "metadata": {},
   "source": [
    "We can see that the dataset contains 8 columns with integer, 2 columns with float and 2 columns with object or string. The data type seems to be appropriate to the column values, hence no data transforming is required when doing data preparation. Also, there is no missing values in the dataset "
   ]
  },
  {
   "cell_type": "code",
   "execution_count": 19,
   "id": "4b051ff8",
   "metadata": {},
   "outputs": [
    {
     "data": {
      "text/plain": [
       "(10000, 12)"
      ]
     },
     "execution_count": 19,
     "metadata": {},
     "output_type": "execute_result"
    }
   ],
   "source": [
    "# Understand the data dimension\n",
    "df.shape"
   ]
  },
  {
   "cell_type": "markdown",
   "id": "fffadb53",
   "metadata": {},
   "source": [
    "We can see that the dataset contains 10,000 records with 12 columns."
   ]
  },
  {
   "cell_type": "markdown",
   "id": "5819d530",
   "metadata": {},
   "source": [
    "#### Understanding the dataframe"
   ]
  },
  {
   "cell_type": "markdown",
   "id": "59093128",
   "metadata": {},
   "source": [
    "For the customer churn prediction model, “churn” column is the target variable that we will use in the model as it is the indicator of whether a customer has churn or not."
   ]
  },
  {
   "cell_type": "code",
   "execution_count": 22,
   "id": "5cbbf9a4",
   "metadata": {},
   "outputs": [
    {
     "data": {
      "text/plain": [
       "array([1, 0])"
      ]
     },
     "execution_count": 22,
     "metadata": {},
     "output_type": "execute_result"
    }
   ],
   "source": [
    "# Check unique values of churn column\n",
    "df.churn.unique()"
   ]
  },
  {
   "cell_type": "markdown",
   "id": "82a74cbb",
   "metadata": {},
   "source": [
    "The data type of “Churn” column is integer with only 1 and 0, with 1 is churn and 0 is not churn."
   ]
  },
  {
   "cell_type": "markdown",
   "id": "f0e7b87b",
   "metadata": {},
   "source": [
    "Next, we will check if there is any duplicated records in the dataset."
   ]
  },
  {
   "cell_type": "code",
   "execution_count": 21,
   "id": "d03272eb",
   "metadata": {},
   "outputs": [
    {
     "data": {
      "text/html": [
       "<div>\n",
       "<style scoped>\n",
       "    .dataframe tbody tr th:only-of-type {\n",
       "        vertical-align: middle;\n",
       "    }\n",
       "\n",
       "    .dataframe tbody tr th {\n",
       "        vertical-align: top;\n",
       "    }\n",
       "\n",
       "    .dataframe thead th {\n",
       "        text-align: right;\n",
       "    }\n",
       "</style>\n",
       "<table border=\"1\" class=\"dataframe\">\n",
       "  <thead>\n",
       "    <tr style=\"text-align: right;\">\n",
       "      <th></th>\n",
       "      <th>customer_id</th>\n",
       "      <th>credit_score</th>\n",
       "      <th>country</th>\n",
       "      <th>gender</th>\n",
       "      <th>age</th>\n",
       "      <th>tenure</th>\n",
       "      <th>balance</th>\n",
       "      <th>products_number</th>\n",
       "      <th>credit_card</th>\n",
       "      <th>active_member</th>\n",
       "      <th>estimated_salary</th>\n",
       "      <th>churn</th>\n",
       "    </tr>\n",
       "  </thead>\n",
       "  <tbody>\n",
       "  </tbody>\n",
       "</table>\n",
       "</div>"
      ],
      "text/plain": [
       "Empty DataFrame\n",
       "Columns: [customer_id, credit_score, country, gender, age, tenure, balance, products_number, credit_card, active_member, estimated_salary, churn]\n",
       "Index: []"
      ]
     },
     "execution_count": 21,
     "metadata": {},
     "output_type": "execute_result"
    }
   ],
   "source": [
    "# Check if there's any duplicated records.\n",
    "df[df.duplicated()]"
   ]
  },
  {
   "cell_type": "markdown",
   "id": "05783df2",
   "metadata": {},
   "source": [
    "There is not duplicated records in the dataset after we run the code above."
   ]
  },
  {
   "cell_type": "code",
   "execution_count": 23,
   "id": "673287bc",
   "metadata": {},
   "outputs": [
    {
     "data": {
      "text/plain": [
       "array([1, 0])"
      ]
     },
     "execution_count": 23,
     "metadata": {},
     "output_type": "execute_result"
    }
   ],
   "source": [
    "# Check unique values of credit_card column\n",
    "df.credit_card.unique()"
   ]
  },
  {
   "cell_type": "code",
   "execution_count": 24,
   "id": "dd7705c5",
   "metadata": {},
   "outputs": [
    {
     "data": {
      "text/plain": [
       "array([1, 0])"
      ]
     },
     "execution_count": 24,
     "metadata": {},
     "output_type": "execute_result"
    }
   ],
   "source": [
    "# Check unique values of active_member column\n",
    "df.active_member.unique()"
   ]
  },
  {
   "cell_type": "markdown",
   "id": "fc4755a1",
   "metadata": {},
   "source": [
    "#### Data Transformation"
   ]
  },
  {
   "cell_type": "markdown",
   "id": "95803632",
   "metadata": {},
   "source": [
    "Next, we will be checking the basic statistics of the numerical columns to see an overview of the numbers for each columns and the level of skewness of the numerical columns to avoid misleading results from statistical tests. We will do some data transformation at this stage where necessary."
   ]
  },
  {
   "cell_type": "code",
   "execution_count": 10,
   "id": "429f205c",
   "metadata": {},
   "outputs": [
    {
     "name": "stdout",
     "output_type": "stream",
     "text": [
      "        customer_id  credit_score           age        tenure        balance  \\\n",
      "count  1.000000e+04  10000.000000  10000.000000  10000.000000   10000.000000   \n",
      "mean   1.569094e+07    650.528800     38.921800      5.012800   76485.889288   \n",
      "std    7.193619e+04     96.653299     10.487806      2.892174   62397.405202   \n",
      "min    1.556570e+07    350.000000     18.000000      0.000000       0.000000   \n",
      "25%    1.562853e+07    584.000000     32.000000      3.000000       0.000000   \n",
      "50%    1.569074e+07    652.000000     37.000000      5.000000   97198.540000   \n",
      "75%    1.575323e+07    718.000000     44.000000      7.000000  127644.240000   \n",
      "max    1.581569e+07    850.000000     92.000000     10.000000  250898.090000   \n",
      "\n",
      "       products_number  credit_card  active_member  estimated_salary  \\\n",
      "count     10000.000000  10000.00000   10000.000000      10000.000000   \n",
      "mean          1.530200      0.70550       0.515100     100090.239881   \n",
      "std           0.581654      0.45584       0.499797      57510.492818   \n",
      "min           1.000000      0.00000       0.000000         11.580000   \n",
      "25%           1.000000      0.00000       0.000000      51002.110000   \n",
      "50%           1.000000      1.00000       1.000000     100193.915000   \n",
      "75%           2.000000      1.00000       1.000000     149388.247500   \n",
      "max           4.000000      1.00000       1.000000     199992.480000   \n",
      "\n",
      "              churn  \n",
      "count  10000.000000  \n",
      "mean       0.203700  \n",
      "std        0.402769  \n",
      "min        0.000000  \n",
      "25%        0.000000  \n",
      "50%        0.000000  \n",
      "75%        0.000000  \n",
      "max        1.000000  \n"
     ]
    }
   ],
   "source": [
    "# Check basic statistics for numerical columns\n",
    "print(df.describe())"
   ]
  },
  {
   "cell_type": "markdown",
   "id": "b89cf927",
   "metadata": {},
   "source": [
    "From the statistics, we can understand that credit_score is ranging from 350 to 850, with a mean of 650. We also have customer tenure range from 0 to 10 years. While for age, there are customers age from 18 to 92. Customers with 92 age seems to be an outlier and might skewed the data, we will further confirm this with the skewness check. Generally, the skewness for a normal distribution is near zero when round off."
   ]
  },
  {
   "cell_type": "code",
   "execution_count": 31,
   "id": "1c645629",
   "metadata": {},
   "outputs": [
    {
     "name": "stdout",
     "output_type": "stream",
     "text": [
      "-----------Skewness--------------\n",
      "customer_id         0.001149\n",
      "credit_score       -0.071607\n",
      "age                -0.046406\n",
      "tenure              0.010991\n",
      "balance            -0.141109\n",
      "products_number     0.745568\n",
      "credit_card        -0.901812\n",
      "active_member      -0.060437\n",
      "estimated_salary    0.002085\n",
      "churn               1.471611\n",
      "dtype: float64\n"
     ]
    }
   ],
   "source": [
    "# show skewness and kurtusis of a particular columns\n",
    "print('-----------Skewness--------------')\n",
    "print(df.skew())"
   ]
  },
  {
   "cell_type": "markdown",
   "id": "0856c023",
   "metadata": {},
   "source": [
    "We can observe that age, product_numbers, credit_card, and churn attributes have a skewed distributions. The value in credit_card and churn attributes are 1 and 0, and serve as the indicator. Hence, we can ignore the skewness findings for these two attributes. However, for age and product_numbers, we will need to further explore and see if there is a need for data transformation. We will futher confirm this by plotting it into a histogram."
   ]
  },
  {
   "cell_type": "code",
   "execution_count": 32,
   "id": "c8d78a2d",
   "metadata": {},
   "outputs": [
    {
     "data": {
      "text/plain": [
       "Text(0.5, 1.0, 'Age Distribution Before Transformation')"
      ]
     },
     "execution_count": 32,
     "metadata": {},
     "output_type": "execute_result"
    },
    {
     "data": {
      "image/png": "[encoded data removed]",
      "text/plain": [
       "<Figure size 936x432 with 1 Axes>"
      ]
     },
     "metadata": {
      "needs_background": "light"
     },
     "output_type": "display_data"
    }
   ],
   "source": [
    "# Plotting histogram for age column\n",
    "plt.figure(figsize=(13,6))\n",
    "# plt.subplot(1,2,1)\n",
    "sns.histplot(df.age, kde=True)\n",
    "plt.title(\"Age Distribution Before Transformation\",fontweight=\"black\",size=18,pad=20)"
   ]
  },
  {
   "cell_type": "markdown",
   "id": "ca43ae9f",
   "metadata": {},
   "source": [
    "From the histogram, we observe that age is highly right-skewed, which means that there is presence of positive outliers. As skewness can impact the performance of the algorithms negatively, we will overcome this by applying log normal transformation to achieve a normal distribution."
   ]
  },
  {
   "cell_type": "code",
   "execution_count": 28,
   "id": "c078d9f0",
   "metadata": {},
   "outputs": [],
   "source": [
    "old_age = df.age"
   ]
  },
  {
   "cell_type": "code",
   "execution_count": 29,
   "id": "2be3ad89",
   "metadata": {},
   "outputs": [],
   "source": [
    "# Applying log to transform and overcome skewness\n",
    "df.age = np.log(df.age)"
   ]
  },
  {
   "cell_type": "markdown",
   "id": "626ddc14",
   "metadata": {},
   "source": [
    "We will then plot the comparison of the age distribution before and after the transformation. After applying log normal transformation, the age attribute has now achieved a normal distribution."
   ]
  },
  {
   "cell_type": "code",
   "execution_count": 30,
   "id": "256e0cba",
   "metadata": {
    "scrolled": false
   },
   "outputs": [
    {
     "data": {
      "image/png": "[encoded data removed]",
      "text/plain": [
       "<Figure size 936x432 with 2 Axes>"
      ]
     },
     "metadata": {
      "needs_background": "light"
     },
     "output_type": "display_data"
    }
   ],
   "source": [
    "plt.figure(figsize=(13,6))\n",
    "plt.subplot(1,2,1)\n",
    "sns.histplot(old_age, kde=True)\n",
    "plt.title(\"Age Distribution Before Transformation\",fontweight=\"black\",size=18,pad=20)\n",
    "\n",
    "plt.subplot(1,2,2)\n",
    "sns.histplot(df.age, kde=True)\n",
    "plt.title(\"Age Distribution After Transformation\",fontweight=\"black\",size=18,pad=20)\n",
    "plt.tight_layout()\n",
    "plt.show()"
   ]
  },
  {
   "cell_type": "code",
   "execution_count": 33,
   "id": "d6662ba0",
   "metadata": {},
   "outputs": [],
   "source": [
    "# product_count = df.products_number.value_counts()\n",
    "# print(product_count)"
   ]
  },
  {
   "cell_type": "code",
   "execution_count": 34,
   "id": "f5684852",
   "metadata": {},
   "outputs": [
    {
     "data": {
      "text/plain": [
       "Text(0.5, 1.0, 'Disribution of Number of products own by Customer')"
      ]
     },
     "execution_count": 34,
     "metadata": {},
     "output_type": "execute_result"
    },
    {
     "data": {
      "image/png": "[encoded data removed]",
      "text/plain": [
       "<Figure size 432x288 with 1 Axes>"
      ]
     },
     "metadata": {
      "needs_background": "light"
     },
     "output_type": "display_data"
    }
   ],
   "source": [
    "# Plotting barchart for products_number column\n",
    "ax = sns.countplot(df.products_number)\n",
    "ax.bar_label(ax.containers[0],fontweight=\"black\",size=10)\n",
    "plt.title(\"Disribution of Number of products own by Customer\",fontweight=\"black\",size=15,pad=15)"
   ]
  },
  {
   "cell_type": "markdown",
   "id": "a9ee5359",
   "metadata": {},
   "source": [
    "The Barchart shows that there are more customers with 1 to 2 products, compared to 3 and 4. We can reduce the skewness by grouping 3 to 4 into 1 group. However, we should keep 1 and 2 products as separate group from 3 to 4 as it could have very distinct meaning for using 1 product in banking compared to 2 products."
   ]
  },
  {
   "cell_type": "code",
   "execution_count": 37,
   "id": "4868307f",
   "metadata": {},
   "outputs": [],
   "source": [
    "# Regrouping customers based on products_number\n",
    "conditions =  [(df.products_number==1), (df.products_number==2), (df.products_number>2)]\n",
    "values =     [\"One product\",\"Two Products\",\"More Than 2 Products\"]"
   ]
  },
  {
   "cell_type": "code",
   "execution_count": 38,
   "id": "b8a05361",
   "metadata": {},
   "outputs": [],
   "source": [
    "df[\"products_group\"] = np.select(conditions,values)"
   ]
  },
  {
   "cell_type": "code",
   "execution_count": 39,
   "id": "f9302ee7",
   "metadata": {},
   "outputs": [
    {
     "name": "stdout",
     "output_type": "stream",
     "text": [
      "One product             5084\n",
      "Two Products            4590\n",
      "More Than 2 Products     326\n",
      "Name: products_group, dtype: int64\n"
     ]
    }
   ],
   "source": [
    "print(df[\"products_group\"].value_counts())"
   ]
  },
  {
   "cell_type": "code",
   "execution_count": 41,
   "id": "65fe5fc8",
   "metadata": {},
   "outputs": [
    {
     "data": {
      "text/plain": [
       "Text(0.5, 1.0, 'Disribution of Number of products own by Customer after grouping')"
      ]
     },
     "execution_count": 41,
     "metadata": {},
     "output_type": "execute_result"
    },
    {
     "data": {
      "image/png": "[encoded data removed]",
      "text/plain": [
       "<Figure size 432x288 with 1 Axes>"
      ]
     },
     "metadata": {
      "needs_background": "light"
     },
     "output_type": "display_data"
    }
   ],
   "source": [
    "# Show the Barchart after regrouping.\n",
    "ax = sns.countplot(df.products_group)\n",
    "ax.bar_label(ax.containers[0],fontweight=\"black\",size=10)\n",
    "plt.title(\"Disribution of Number of products own by Customer after grouping\",fontweight=\"black\",size=15,pad=15)"
   ]
  },
  {
   "cell_type": "markdown",
   "id": "70704e7b",
   "metadata": {},
   "source": [
    "### Start Modelling"
   ]
  },
  {
   "cell_type": "markdown",
   "id": "6c66afd9",
   "metadata": {},
   "source": [
    "There are a few common classification model that have been proven to successfully predict customer churn in banking industry. These models are Decision Tree, Random Forest and Artificial Neural Network (ANN). We will fit the dataset and test on these models to determine the best models for this datatset. In this project, we are splitting the training and test data into 80:20 proportion."
   ]
  },
  {
   "cell_type": "code",
   "execution_count": 42,
   "id": "5e40b8e0",
   "metadata": {},
   "outputs": [],
   "source": [
    "# import necessary libraries\n",
    "from sklearn.model_selection import train_test_split \n",
    "from sklearn import metrics \n",
    "from sklearn.metrics import roc_curve, roc_auc_score"
   ]
  },
  {
   "cell_type": "code",
   "execution_count": 44,
   "id": "85705024",
   "metadata": {},
   "outputs": [],
   "source": [
    "# Identifying and labelling attributes\n",
    "df_inputs = pd.get_dummies(df[['credit_score', 'country','gender', 'age', 'tenure', 'products_number', 'credit_card', 'active_member', 'estimated_salary']])\n",
    "df_label = df['churn']"
   ]
  },
  {
   "cell_type": "code",
   "execution_count": 24,
   "id": "0a8da813",
   "metadata": {},
   "outputs": [],
   "source": [
    "# Split dataset into train and test data\n",
    "X_train, X_test, Y_train, Y_test = train_test_split(df_inputs, df_label, \n",
    "             stratify=df_label, test_size=0.2, random_state=42)"
   ]
  },
  {
   "cell_type": "markdown",
   "id": "97b56e9c",
   "metadata": {},
   "source": [
    "### Decision Tree"
   ]
  },
  {
   "cell_type": "code",
   "execution_count": 25,
   "id": "035ef688",
   "metadata": {},
   "outputs": [
    {
     "data": {
      "text/plain": [
       "DecisionTreeClassifier(criterion='entropy', max_depth=5, min_samples_leaf=5,\n",
       "                       min_samples_split=1000, random_state=1)"
      ]
     },
     "execution_count": 25,
     "metadata": {},
     "output_type": "execute_result"
    }
   ],
   "source": [
    "# Fit the train dataset into the Model\n",
    "from sklearn.tree import DecisionTreeClassifier\n",
    "min_sample = int(len(df) * 0.1) \n",
    "dtree = DecisionTreeClassifier(criterion = 'entropy', splitter=\"best\", max_depth=5, \n",
    "            min_samples_leaf=5, min_samples_split=min_sample, random_state=1) \n",
    "dtree.fit(X_train, Y_train)"
   ]
  },
  {
   "cell_type": "code",
   "execution_count": 26,
   "id": "61affce6",
   "metadata": {},
   "outputs": [],
   "source": [
    "#Predict the response for test dataset\n",
    "y_predict_dt = dtree.predict(X_test)"
   ]
  },
  {
   "cell_type": "code",
   "execution_count": 27,
   "id": "164b3638",
   "metadata": {},
   "outputs": [
    {
     "name": "stdout",
     "output_type": "stream",
     "text": [
      "Decision Tree Model\n",
      "Accuracy :  0.839\n",
      "Misclassification :  0.161\n",
      "Precision :  0.851\n",
      "Sensitivity/Recall 1:  0.253\n",
      "Specificity/Recall 0:  0.989\n",
      "F1-measure :  0.907\n"
     ]
    }
   ],
   "source": [
    "# Using metrics' function parameters to derive performance measures\n",
    "acc = metrics.accuracy_score(Y_test, y_predict_dt) \n",
    "sens = metrics.recall_score(Y_test, y_predict_dt,average='binary', pos_label=1) \n",
    "spec = metrics.recall_score(Y_test, y_predict_dt,average='binary', pos_label=0) \n",
    "prec = metrics.precision_score(Y_test, y_predict_dt,average='binary', pos_label=1) \n",
    "f1 = metrics.f1_score(Y_test, y_predict_dt,average='binary', pos_label=0) \n",
    "\n",
    "\n",
    "# display all the measures derived\n",
    "print(\"Decision Tree Model\")\n",
    "print(\"Accuracy : \", round(acc,3)) \n",
    "print(\"Misclassification : \", round(1-acc,3)) \n",
    "print(\"Precision : \", round(prec,3)) \n",
    "print(\"Sensitivity/Recall 1: \", round(sens,3)) \n",
    "print(\"Specificity/Recall 0: \", round(spec,3)) \n",
    "print(\"F1-measure : \", round(f1,3))"
   ]
  },
  {
   "cell_type": "code",
   "execution_count": 28,
   "id": "88a28687",
   "metadata": {},
   "outputs": [
    {
     "name": "stdout",
     "output_type": "stream",
     "text": [
      "AUC for DecisionTree:  0.6209\n"
     ]
    }
   ],
   "source": [
    "# derive ROC AUC scores of each model\n",
    "auc_dt = roc_auc_score(Y_test, y_predict_dt)\n",
    "print('AUC for DecisionTree: ', round(auc_dt,4))"
   ]
  },
  {
   "cell_type": "code",
   "execution_count": 29,
   "id": "5b3a5c59",
   "metadata": {},
   "outputs": [
    {
     "data": {
      "text/plain": [
       "<matplotlib.legend.Legend at 0x7fd528e77340>"
      ]
     },
     "execution_count": 29,
     "metadata": {},
     "output_type": "execute_result"
    },
    {
     "data": {
      "image/png": "[encoded data removed]",
      "text/plain": [
       "<Figure size 432x288 with 1 Axes>"
      ]
     },
     "metadata": {
      "needs_background": "light"
     },
     "output_type": "display_data"
    }
   ],
   "source": [
    "# initiate the plots of ROC charts for each model\n",
    "plt.figure(0).clf()\n",
    "plt.plot([0, 1], ls=\"--\")\n",
    "\n",
    "#fit DecisionTree model and plot ROC curve\n",
    "fpr, tpr, _ = roc_curve(Y_test, y_predict_dt)\n",
    "plt.plot(fpr,tpr,label=\"DecisionTree, AUC=\"+str(round(auc_dt,3)))\n",
    "plt.legend(loc=4)"
   ]
  },
  {
   "cell_type": "markdown",
   "id": "f503f57f",
   "metadata": {},
   "source": [
    "### Random Forest"
   ]
  },
  {
   "cell_type": "code",
   "execution_count": 30,
   "id": "f093efef",
   "metadata": {},
   "outputs": [],
   "source": [
    "from sklearn.ensemble import RandomForestClassifier\n",
    "rf_obj = RandomForestClassifier(n_estimators=200)"
   ]
  },
  {
   "cell_type": "code",
   "execution_count": 31,
   "id": "5ce0fabe",
   "metadata": {},
   "outputs": [
    {
     "data": {
      "text/plain": [
       "RandomForestClassifier(n_estimators=200)"
      ]
     },
     "execution_count": 31,
     "metadata": {},
     "output_type": "execute_result"
    }
   ],
   "source": [
    "# Fit the train dataset into the Model\n",
    "rf_obj.fit(X_train, Y_train.values.ravel())"
   ]
  },
  {
   "cell_type": "code",
   "execution_count": 32,
   "id": "69d3e5b0",
   "metadata": {},
   "outputs": [],
   "source": [
    "#Predict the response for test dataset\n",
    "y_predict_rf = rf_obj.predict(X_test)"
   ]
  },
  {
   "cell_type": "code",
   "execution_count": 33,
   "id": "a04d0f1c",
   "metadata": {},
   "outputs": [
    {
     "name": "stdout",
     "output_type": "stream",
     "text": [
      "Random Forest Model\n",
      "Accuracy :  0.848\n",
      "Misclassification :  0.152\n",
      "Precision :  0.697\n",
      "Sensitivity/Recall 1:  0.447\n",
      "Specificity/Recall 0:  0.95\n",
      "F1-measure :  0.909\n"
     ]
    }
   ],
   "source": [
    "# Using metrics' function parameters to derive performance measures\n",
    "acc = metrics.accuracy_score(Y_test, y_predict_rf) \n",
    "sens = metrics.recall_score(Y_test, y_predict_rf,average='binary', pos_label=1) \n",
    "spec = metrics.recall_score(Y_test, y_predict_rf,average='binary', pos_label=0) \n",
    "prec = metrics.precision_score(Y_test, y_predict_rf,average='binary', pos_label=1) \n",
    "f1 = metrics.f1_score(Y_test, y_predict_rf,average='binary', pos_label=0) \n",
    "\n",
    "\n",
    "# display all the measures derived\n",
    "print('Random Forest Model')\n",
    "print(\"Accuracy : \", round(acc,3)) \n",
    "print(\"Misclassification : \", round(1-acc,3)) \n",
    "print(\"Precision : \", round(prec,3)) \n",
    "print(\"Sensitivity/Recall 1: \", round(sens,3)) \n",
    "print(\"Specificity/Recall 0: \", round(spec,3)) \n",
    "print(\"F1-measure : \", round(f1,3))"
   ]
  },
  {
   "cell_type": "code",
   "execution_count": 34,
   "id": "5c3250d9",
   "metadata": {},
   "outputs": [
    {
     "name": "stdout",
     "output_type": "stream",
     "text": [
      "AUC for RandomForest:  0.6988\n"
     ]
    }
   ],
   "source": [
    "# derive ROC AUC scores of each model\n",
    "auc_rf = roc_auc_score(Y_test, y_predict_rf)\n",
    "print('AUC for RandomForest: ', round(auc_rf,4))"
   ]
  },
  {
   "cell_type": "code",
   "execution_count": 35,
   "id": "affacf2b",
   "metadata": {},
   "outputs": [
    {
     "data": {
      "text/plain": [
       "<matplotlib.legend.Legend at 0x7fd52901bac0>"
      ]
     },
     "execution_count": 35,
     "metadata": {},
     "output_type": "execute_result"
    },
    {
     "data": {
      "image/png": "[encoded data removed]",
      "text/plain": [
       "<Figure size 432x288 with 1 Axes>"
      ]
     },
     "metadata": {
      "needs_background": "light"
     },
     "output_type": "display_data"
    }
   ],
   "source": [
    "# initiate the plots of ROC charts for each model\n",
    "plt.figure(0).clf()\n",
    "plt.plot([0, 1], ls=\"--\")\n",
    "\n",
    "#fit RandomForest model and plot ROC curve\n",
    "fpr, tpr, _ = roc_curve(Y_test, y_predict_rf)\n",
    "plt.plot(fpr,tpr,label=\"RandomForest, AUC=\"+str(round(auc_rf,3)))\n",
    "plt.legend(loc=4)"
   ]
  },
  {
   "cell_type": "markdown",
   "id": "5e726107",
   "metadata": {},
   "source": [
    "### ANN"
   ]
  },
  {
   "cell_type": "code",
   "execution_count": 36,
   "id": "11bdb744",
   "metadata": {},
   "outputs": [
    {
     "data": {
      "text/plain": [
       "MLPClassifier(activation='identity', alpha=1e-05, hidden_layer_sizes=(200, 6),\n",
       "              learning_rate='adaptive', learning_rate_init=0.0001, max_iter=500,\n",
       "              random_state=1, solver='lbfgs')"
      ]
     },
     "execution_count": 36,
     "metadata": {},
     "output_type": "execute_result"
    }
   ],
   "source": [
    "# feature scaling\n",
    "from sklearn.preprocessing import StandardScaler  \n",
    "scaler = StandardScaler()  \n",
    "scaler.fit(X_train)                     #fit only on training data  \n",
    "X_train = scaler.transform(X_train)  \n",
    "X_test = scaler.transform(X_test)       # apply same transformation to test data\n",
    "\n",
    "from sklearn.neural_network import MLPClassifier \n",
    "nn = MLPClassifier(solver='lbfgs', alpha=1e-05 , activation = 'identity', random_state=1,\n",
    "             hidden_layer_sizes=(200,6), learning_rate = 'adaptive', \n",
    "             learning_rate_init=0.0001, max_iter=500)\n",
    "\n",
    "nn.fit(X_train, Y_train)"
   ]
  },
  {
   "cell_type": "code",
   "execution_count": 37,
   "id": "8f7955fb",
   "metadata": {},
   "outputs": [],
   "source": [
    "#Predict the response for test dataset\n",
    "y_predict_ann = nn.predict(X_test)"
   ]
  },
  {
   "cell_type": "code",
   "execution_count": 38,
   "id": "39740fc5",
   "metadata": {},
   "outputs": [
    {
     "name": "stdout",
     "output_type": "stream",
     "text": [
      "ANN Model\n",
      "Accuracy :  0.814\n",
      "Misclassification :  0.186\n",
      "Precision :  0.632\n",
      "Sensitivity/Recall 1:  0.211\n",
      "Specificity/Recall 0:  0.969\n",
      "F1-measure :  0.893\n"
     ]
    }
   ],
   "source": [
    "# Using metrics' function parameters to derive performance measures\n",
    "acc = metrics.accuracy_score(Y_test, y_predict_ann) \n",
    "sens = metrics.recall_score(Y_test, y_predict_ann,average='binary', pos_label=1) \n",
    "spec = metrics.recall_score(Y_test, y_predict_ann,average='binary', pos_label=0) \n",
    "prec = metrics.precision_score(Y_test, y_predict_ann,average='binary', pos_label=1) \n",
    "f1 = metrics.f1_score(Y_test, y_predict_ann,average='binary', pos_label=0) \n",
    "\n",
    "# display all the measures derived\n",
    "print(\"ANN Model\")\n",
    "print(\"Accuracy : \", round(acc,3)) \n",
    "print(\"Misclassification : \", round(1-acc,3)) \n",
    "print(\"Precision : \", round(prec,3)) \n",
    "print(\"Sensitivity/Recall 1: \", round(sens,3)) \n",
    "print(\"Specificity/Recall 0: \", round(spec,3)) \n",
    "print(\"F1-measure : \", round(f1,3))"
   ]
  },
  {
   "cell_type": "code",
   "execution_count": 39,
   "id": "bb9541d4",
   "metadata": {},
   "outputs": [
    {
     "name": "stdout",
     "output_type": "stream",
     "text": [
      "AUC for ANN:  0.59\n"
     ]
    }
   ],
   "source": [
    "# derive ROC AUC scores of each model\n",
    "auc_ann = roc_auc_score(Y_test, y_predict_ann)\n",
    "print('AUC for ANN: ', round(auc_ann,4))"
   ]
  },
  {
   "cell_type": "code",
   "execution_count": 40,
   "id": "c6f1d4c7",
   "metadata": {},
   "outputs": [
    {
     "data": {
      "text/plain": [
       "<matplotlib.legend.Legend at 0x7fd54b630760>"
      ]
     },
     "execution_count": 40,
     "metadata": {},
     "output_type": "execute_result"
    },
    {
     "data": {
      "image/png": "[encoded data removed]",
      "text/plain": [
       "<Figure size 432x288 with 1 Axes>"
      ]
     },
     "metadata": {
      "needs_background": "light"
     },
     "output_type": "display_data"
    }
   ],
   "source": [
    "# initiate the plots of ROC charts for each model\n",
    "plt.figure(0).clf()\n",
    "plt.plot([0, 1], ls=\"--\")\n",
    "\n",
    "#fit ANN model and plot ROC curve\n",
    "fpr, tpr, _ = roc_curve(Y_test, y_predict_ann)\n",
    "plt.plot(fpr,tpr,label=\"ANN, AUC=\"+str(round(auc_ann,3)))\n",
    "plt.legend(loc=4)"
   ]
  },
  {
   "cell_type": "code",
   "execution_count": 41,
   "id": "644f5f18",
   "metadata": {},
   "outputs": [
    {
     "data": {
      "text/plain": [
       "<matplotlib.legend.Legend at 0x7fd538fe0430>"
      ]
     },
     "execution_count": 41,
     "metadata": {},
     "output_type": "execute_result"
    },
    {
     "data": {
      "image/png": "[encoded data removed]",
      "text/plain": [
       "<Figure size 432x288 with 1 Axes>"
      ]
     },
     "metadata": {
      "needs_background": "light"
     },
     "output_type": "display_data"
    }
   ],
   "source": [
    "# initiate the plots of ROC charts for each model\n",
    "plt.figure(0).clf()\n",
    "plt.plot([0, 1], ls=\"--\")\n",
    "\n",
    "#fit DecisionTree model and plot ROC curve\n",
    "fpr, tpr, _ = roc_curve(Y_test, y_predict_dt)\n",
    "plt.plot(fpr,tpr,label=\"DecisionTree, AUC=\"+str(round(auc_dt,3)))\n",
    "plt.legend(loc=4)\n",
    "\n",
    "#fit RandomForest model and plot ROC curve\n",
    "fpr, tpr, _ = roc_curve(Y_test, y_predict_rf)\n",
    "plt.plot(fpr,tpr,label=\"RandomForest, AUC=\"+str(round(auc_rf,3)))\n",
    "plt.legend(loc=4)\n",
    "\n",
    "#fit ANN model and plot ROC curve\n",
    "fpr, tpr, _ = roc_curve(Y_test, y_predict_ann)\n",
    "plt.plot(fpr,tpr,label=\"ANN, AUC=\"+str(round(auc_ann,3)))\n",
    "plt.legend(loc=4)"
   ]
  },
  {
   "cell_type": "markdown",
   "id": "0e6acea6",
   "metadata": {},
   "source": [
    "### Observation and Discussion"
   ]
  },
  {
   "cell_type": "markdown",
   "id": "ee9ea5f5",
   "metadata": {},
   "source": [
    "The objective of this project is to find the model that can predict customer churn effectively, hence the accuracy of the model is important. <br>\n",
    "From the 3 models above, we can observe that Random Forest achieve the highest accuracy of 0.858 (85.8%). That means overall, Random Forest correctly predict 85.8% of the churn labels. Besides that, precision is also important in churn prediction as we want to be able to correctly predict the customers who actually churn. Decision Tree is the winner here with the highest precision of 0.855 (85.5%). Finally, we compare the F1 score of these three models. F1 score is the harmonic mean of the precision and recall. The higher F1 score, the better the model on predicting the dataset. Random Forest has the highest F1 score at 0.915 (91.5%) among all three models. The rule of thumb is the model should achieve at least 0.7 of F1 score. <br>\n",
    "\n",
    "#### ROC & AUC\n",
    "Receiver Operator Characteristics (ROC) curves and Area Under the Curves (AUC) are another two common metrics used to evaluate the performance of classification algorithms. ROC and AUC helps to cross check if the model only have high accuracy but low in recall and precision. A rule of thumb is to select the model that not only have a ROC curve closest to ideal, but also with AUC higher than 0.8. As observed above, all three models have quite poor ROC curve, but Random Forest is still the best out of three models. As for AUC value, all three models did not achieve the benchmark of 0.8, but Random Forest model performs the best and achieve an acceptable value of 0.711."
   ]
  },
  {
   "cell_type": "markdown",
   "id": "2a705c14",
   "metadata": {},
   "source": [
    "### Conclusion\n",
    "Overall, the best model is Random Forest with the consideration of accuracy, F1 Score, ROC and AUC metrics. Random Forest is the best performing model among others, although AUC value is barely acceptable."
   ]
  }
 ],
 "metadata": {
  "kernelspec": {
   "display_name": "Python 3 (ipykernel)",
   "language": "python",
   "name": "python3"
  },
  "language_info": {
   "codemirror_mode": {
    "name": "ipython",
    "version": 3
   },
   "file_extension": ".py",
   "mimetype": "text/x-python",
   "name": "python",
   "nbconvert_exporter": "python",
   "pygments_lexer": "ipython3",
   "version": "3.9.12"
  }
 },
 "nbformat": 4,
 "nbformat_minor": 5
}
